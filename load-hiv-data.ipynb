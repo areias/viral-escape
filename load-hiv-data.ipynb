{
  "cells": [
    {
      "cell_type": "markdown",
      "metadata": {
        "id": "view-in-github",
        "colab_type": "text"
      },
      "source": [
        "<a href=\"https://colab.research.google.com/github/areias/viral-escape/blob/main/load-hiv-data.ipynb\" target=\"_parent\"><img src=\"https://colab.research.google.com/assets/colab-badge.svg\" alt=\"Open In Colab\"/></a>"
      ]
    },
    {
      "cell_type": "markdown",
      "source": [
        "## Loading the data"
      ],
      "metadata": {
        "id": "fjQU0Kn0M2hj"
      }
    },
    {
      "cell_type": "code",
      "source": [
        "from google.colab import drive\n",
        "drive.mount('/content/drive')"
      ],
      "metadata": {
        "colab": {
          "base_uri": "https://localhost:8080/"
        },
        "id": "oiAZxEx7dcGE",
        "outputId": "df47f3fa-9285-4db6-f581-f548a798ef6b"
      },
      "execution_count": 2,
      "outputs": [
        {
          "output_type": "stream",
          "name": "stdout",
          "text": [
            "Mounted at /content/drive\n"
          ]
        }
      ]
    },
    {
      "cell_type": "code",
      "source": [
        "! ls drive/MyDrive/viral-mutation/data/hiv"
      ],
      "metadata": {
        "colab": {
          "base_uri": "https://localhost:8080/"
        },
        "id": "DnAVtV0JM9T4",
        "outputId": "848ad3c2-626c-4e95-9678-88321d9c653e"
      },
      "execution_count": null,
      "outputs": [
        {
          "output_type": "stream",
          "name": "stdout",
          "text": [
            "bg505_regions.txt  escape_dingens2019  fitness_haddox2018  HIV-1_env_samelen.fa\n"
          ]
        }
      ]
    },
    {
      "cell_type": "code",
      "execution_count": null,
      "metadata": {
        "id": "l4qJxdFCQ6as"
      },
      "outputs": [],
      "source": [
        "# clone repository\n",
        "#! git clone https://github.com/brianhie/viral-mutation.git"
      ]
    },
    {
      "cell_type": "code",
      "execution_count": null,
      "metadata": {
        "id": "C16K5EBTIVOS"
      },
      "outputs": [],
      "source": [
        "# download data\n",
        "#!wget http://cb.csail.mit.edu/cb/viral-mutation/data.tar.gz\n"
      ]
    },
    {
      "cell_type": "code",
      "execution_count": null,
      "metadata": {
        "id": "HbRtBzySIipJ"
      },
      "outputs": [],
      "source": [
        "# unzip data\n",
        "#!tar xvf data.tar.gz"
      ]
    },
    {
      "cell_type": "code",
      "execution_count": 7,
      "metadata": {
        "colab": {
          "base_uri": "https://localhost:8080/"
        },
        "id": "W0gLNHtsAsxJ",
        "outputId": "1d7d9637-3c8b-4b32-89f9-3fab6c3dc205"
      },
      "outputs": [
        {
          "output_type": "stream",
          "name": "stdout",
          "text": [
            "Collecting bio\n",
            "  Downloading bio-1.3.8-py3-none-any.whl (269 kB)\n",
            "\u001b[?25l\r\u001b[K     |█▏                              | 10 kB 34.9 MB/s eta 0:00:01\r\u001b[K     |██▍                             | 20 kB 17.1 MB/s eta 0:00:01\r\u001b[K     |███▋                            | 30 kB 10.0 MB/s eta 0:00:01\r\u001b[K     |████▉                           | 40 kB 8.3 MB/s eta 0:00:01\r\u001b[K     |██████                          | 51 kB 4.4 MB/s eta 0:00:01\r\u001b[K     |███████▎                        | 61 kB 5.2 MB/s eta 0:00:01\r\u001b[K     |████████▌                       | 71 kB 5.3 MB/s eta 0:00:01\r\u001b[K     |█████████▊                      | 81 kB 5.4 MB/s eta 0:00:01\r\u001b[K     |███████████                     | 92 kB 6.0 MB/s eta 0:00:01\r\u001b[K     |████████████▏                   | 102 kB 5.0 MB/s eta 0:00:01\r\u001b[K     |█████████████▍                  | 112 kB 5.0 MB/s eta 0:00:01\r\u001b[K     |██████████████▋                 | 122 kB 5.0 MB/s eta 0:00:01\r\u001b[K     |███████████████▉                | 133 kB 5.0 MB/s eta 0:00:01\r\u001b[K     |█████████████████               | 143 kB 5.0 MB/s eta 0:00:01\r\u001b[K     |██████████████████▏             | 153 kB 5.0 MB/s eta 0:00:01\r\u001b[K     |███████████████████▍            | 163 kB 5.0 MB/s eta 0:00:01\r\u001b[K     |████████████████████▋           | 174 kB 5.0 MB/s eta 0:00:01\r\u001b[K     |█████████████████████▉          | 184 kB 5.0 MB/s eta 0:00:01\r\u001b[K     |███████████████████████         | 194 kB 5.0 MB/s eta 0:00:01\r\u001b[K     |████████████████████████▎       | 204 kB 5.0 MB/s eta 0:00:01\r\u001b[K     |█████████████████████████▌      | 215 kB 5.0 MB/s eta 0:00:01\r\u001b[K     |██████████████████████████▊     | 225 kB 5.0 MB/s eta 0:00:01\r\u001b[K     |████████████████████████████    | 235 kB 5.0 MB/s eta 0:00:01\r\u001b[K     |█████████████████████████████▏  | 245 kB 5.0 MB/s eta 0:00:01\r\u001b[K     |██████████████████████████████▍ | 256 kB 5.0 MB/s eta 0:00:01\r\u001b[K     |███████████████████████████████▋| 266 kB 5.0 MB/s eta 0:00:01\r\u001b[K     |████████████████████████████████| 269 kB 5.0 MB/s \n",
            "\u001b[?25hRequirement already satisfied: tqdm in /usr/local/lib/python3.7/dist-packages (from bio) (4.64.0)\n",
            "Collecting mygene\n",
            "  Downloading mygene-3.2.2-py2.py3-none-any.whl (5.4 kB)\n",
            "Collecting biopython>=1.79\n",
            "  Downloading biopython-1.79-cp37-cp37m-manylinux_2_5_x86_64.manylinux1_x86_64.whl (2.3 MB)\n",
            "\u001b[K     |████████████████████████████████| 2.3 MB 89.6 MB/s \n",
            "\u001b[?25hRequirement already satisfied: requests in /usr/local/lib/python3.7/dist-packages (from bio) (2.23.0)\n",
            "Requirement already satisfied: numpy in /usr/local/lib/python3.7/dist-packages (from biopython>=1.79->bio) (1.21.6)\n",
            "Collecting biothings-client>=0.2.6\n",
            "  Downloading biothings_client-0.2.6-py2.py3-none-any.whl (37 kB)\n",
            "Requirement already satisfied: certifi>=2017.4.17 in /usr/local/lib/python3.7/dist-packages (from requests->bio) (2021.10.8)\n",
            "Requirement already satisfied: idna<3,>=2.5 in /usr/local/lib/python3.7/dist-packages (from requests->bio) (2.10)\n",
            "Requirement already satisfied: chardet<4,>=3.0.2 in /usr/local/lib/python3.7/dist-packages (from requests->bio) (3.0.4)\n",
            "Requirement already satisfied: urllib3!=1.25.0,!=1.25.1,<1.26,>=1.21.1 in /usr/local/lib/python3.7/dist-packages (from requests->bio) (1.24.3)\n",
            "Installing collected packages: biothings-client, mygene, biopython, bio\n",
            "Successfully installed bio-1.3.8 biopython-1.79 biothings-client-0.2.6 mygene-3.2.2\n"
          ]
        }
      ],
      "source": [
        "# install dependencies\n",
        "! pip install  bio"
      ]
    },
    {
      "cell_type": "code",
      "source": [
        "! cp drive/MyDrive/hiv/load_hiv_data.py /content/"
      ],
      "metadata": {
        "id": "OI3u77MaVy-D"
      },
      "execution_count": 4,
      "outputs": []
    },
    {
      "cell_type": "code",
      "source": [
        "import load_hiv_data"
      ],
      "metadata": {
        "id": "VKWvtUH5V9om"
      },
      "execution_count": 5,
      "outputs": []
    },
    {
      "cell_type": "code",
      "source": [
        "seqs = load_hiv_data.load_hiv_data(\"all\")"
      ],
      "metadata": {
        "id": "JwGKydMqV6Ui"
      },
      "execution_count": 8,
      "outputs": []
    },
    {
      "cell_type": "code",
      "source": [
        "len(seqs)"
      ],
      "metadata": {
        "colab": {
          "base_uri": "https://localhost:8080/"
        },
        "id": "rvggmGKY_e3v",
        "outputId": "62e3ad48-7d31-4805-dd17-69594e6991e0"
      },
      "execution_count": 9,
      "outputs": [
        {
          "output_type": "execute_result",
          "data": {
            "text/plain": [
              "5950"
            ]
          },
          "metadata": {},
          "execution_count": 9
        }
      ]
    },
    {
      "cell_type": "code",
      "source": [
        "# count dates\n",
        "counter = {}\n",
        "\n",
        "for seq in seqs:\n",
        "    for meta in seqs[seq]:\n",
        "        #print(meta['year'])\n",
        "        if meta['year'] not in counter:\n",
        "            counter[meta['year']] = 0\n",
        "        counter[meta['year']] += 1"
      ],
      "metadata": {
        "id": "GHvOBwLB_e1r"
      },
      "execution_count": 10,
      "outputs": []
    },
    {
      "cell_type": "code",
      "source": [
        "# get sliding window train and test indices \n",
        "\n",
        "\n",
        "def get_window_indices(seqs, train_window=10, test_window=3 ):\n",
        "\n",
        "    # get dates\n",
        "    counter = {}\n",
        "\n",
        "    for seq in seqs:\n",
        "        for meta in seqs[seq]:\n",
        "            #print(meta['year'])\n",
        "            if meta['year'] not in counter:\n",
        "                counter[meta['year']] = 0\n",
        "            counter[meta['year']] += 1\n",
        "\n",
        "\n",
        "    splits = []\n",
        "\n",
        "    for i in range(len(counter.keys())):\n",
        "\n",
        "        start =  min([x for x in counter.keys() if x is not None])   \n",
        "        end =  max([x for x in counter.keys() if x is not None])   \n",
        "\n",
        "        if start + train_window + i + test_window  > end:\n",
        "            break\n",
        "        else:\n",
        "            splits.append({'TRAIN':list(range(start, start + train_window +i)),\n",
        "                        'TEST': list(range(start + train_window + i, start + train_window + i+ test_window))})\n",
        "            \n",
        "    return splits"
      ],
      "metadata": {
        "id": "F56fb4NmXN5h"
      },
      "execution_count": 68,
      "outputs": []
    },
    {
      "cell_type": "code",
      "execution_count": 57,
      "metadata": {
        "id": "jdOOc2FcItPi"
      },
      "outputs": [],
      "source": [
        "\n",
        "def split_window(seqs, window_indices):\n",
        "    \n",
        "    train_seqs, test_seqs = {},{}\n",
        "    for x in list(seqs):\n",
        "        dates=[]\n",
        "        for meta in seqs[x]:\n",
        "            if meta['year']!=None:\n",
        "                dates.append(meta['year'])\n",
        "                oldest = min(dates)\n",
        "            else:\n",
        "                pass\n",
        "        if oldest in window_indices['TRAIN']:\n",
        "            train_seqs[x] = seqs[x]\n",
        "        if oldest in window_indices['TEST']:\n",
        "            test_seqs[x] = seqs[x]\n",
        "\n",
        "    return train_seqs, test_seqs   "
      ]
    },
    {
      "cell_type": "code",
      "source": [
        "counter = {}\n",
        "\n",
        "for seq in test_seqs:\n",
        "    for meta in test_seqs[seq]:\n",
        "        #print(meta['year'])\n",
        "        if meta['year'] not in counter:\n",
        "            counter[meta['year']] = 0\n",
        "        counter[meta['year']] += 1"
      ],
      "metadata": {
        "id": "eOYjOqPhZG8l"
      },
      "execution_count": 59,
      "outputs": []
    },
    {
      "cell_type": "code",
      "source": [
        "counter"
      ],
      "metadata": {
        "id": "FFf6OIvmr4fr",
        "outputId": "2eb9fa8b-d2c7-484f-9cda-c460a4be7390",
        "colab": {
          "base_uri": "https://localhost:8080/"
        }
      },
      "execution_count": 60,
      "outputs": [
        {
          "output_type": "execute_result",
          "data": {
            "text/plain": [
              "{1995: 38, 1996: 38, 1997: 86, 2000: 1, None: 4}"
            ]
          },
          "metadata": {},
          "execution_count": 60
        }
      ]
    },
    {
      "cell_type": "code",
      "source": [
        "counter = {}\n",
        "\n",
        "for seq in train_seqs:\n",
        "    for meta in train_seqs[seq]:\n",
        "        #print(meta['year'])\n",
        "        if meta['year'] not in counter:\n",
        "            counter[meta['year']] = 0\n",
        "        counter[meta['year']] += 1"
      ],
      "metadata": {
        "id": "3VUJ9iBIsph9"
      },
      "execution_count": 61,
      "outputs": []
    },
    {
      "cell_type": "code",
      "source": [
        "counter"
      ],
      "metadata": {
        "id": "hAYgyYWTsvqd",
        "outputId": "b64b756b-f722-4f7c-8813-d199bcf395be",
        "colab": {
          "base_uri": "https://localhost:8080/"
        }
      },
      "execution_count": 62,
      "outputs": [
        {
          "output_type": "execute_result",
          "data": {
            "text/plain": [
              "{1985: 1,\n",
              " 1986: 2,\n",
              " 1987: 6,\n",
              " 1990: 23,\n",
              " 1991: 13,\n",
              " 1992: 31,\n",
              " 1993: 32,\n",
              " 1994: 72,\n",
              " None: 36}"
            ]
          },
          "metadata": {},
          "execution_count": 62
        }
      ]
    },
    {
      "cell_type": "code",
      "source": [
        ""
      ],
      "metadata": {
        "id": "FjX3LblfswNS"
      },
      "execution_count": null,
      "outputs": []
    }
  ],
  "metadata": {
    "accelerator": "GPU",
    "colab": {
      "collapsed_sections": [],
      "machine_shape": "hm",
      "name": "hiv-viral-escape.ipynb",
      "provenance": [],
      "authorship_tag": "ABX9TyPr31sWkZi5tJBquPCV1kS3",
      "include_colab_link": true
    },
    "kernelspec": {
      "display_name": "Python 3",
      "name": "python3"
    },
    "language_info": {
      "name": "python"
    }
  },
  "nbformat": 4,
  "nbformat_minor": 0
}