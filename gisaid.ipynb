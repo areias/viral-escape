{
  "cells": [
    {
      "cell_type": "markdown",
      "metadata": {
        "id": "view-in-github",
        "colab_type": "text"
      },
      "source": [
        "<a href=\"https://colab.research.google.com/github/areias/viral-escape/blob/main/gisaid.ipynb\" target=\"_parent\"><img src=\"https://colab.research.google.com/assets/colab-badge.svg\" alt=\"Open In Colab\"/></a>"
      ]
    },
    {
      "cell_type": "markdown",
      "source": [
        "# Roberta Transformer Model on Gisaid data up to April 4th, 2020\n",
        "* train bert model on sequences \n",
        "* plot embeddings\n"
      ],
      "metadata": {
        "id": "RRbOCy-hXuHz"
      },
      "id": "RRbOCy-hXuHz"
    },
    {
      "cell_type": "markdown",
      "source": [
        "## Data "
      ],
      "metadata": {
        "id": "NbZ5zPQRX5G7"
      },
      "id": "NbZ5zPQRX5G7"
    },
    {
      "cell_type": "code",
      "execution_count": null,
      "id": "641b7879-2921-4293-81bd-ba4a33b8af60",
      "metadata": {
        "id": "641b7879-2921-4293-81bd-ba4a33b8af60",
        "outputId": "81a4ffdc-ec71-4d4d-f4ac-a12fb6592436"
      },
      "outputs": [
        {
          "name": "stdout",
          "output_type": "stream",
          "text": [
            "Gisaid data downloaded 2022-04-04 09:36:01.056281\n"
          ]
        }
      ],
      "source": [
        "#import datetime\n",
        "#print(\"Gisaid data downloaded \" + str(datetime.datetime.now()))"
      ]
    },
    {
      "cell_type": "code",
      "execution_count": 124,
      "id": "f7bb38fe",
      "metadata": {
        "colab": {
          "base_uri": "https://localhost:8080/"
        },
        "id": "f7bb38fe",
        "outputId": "5daba002-3bd2-4a00-875b-3f1b677789e6"
      },
      "outputs": [
        {
          "output_type": "stream",
          "name": "stdout",
          "text": [
            "Drive already mounted at /content/drive; to attempt to forcibly remount, call drive.mount(\"/content/drive\", force_remount=True).\n"
          ]
        }
      ],
      "source": [
        "from google.colab import drive\n",
        "drive.mount('/content/drive')"
      ]
    },
    {
      "cell_type": "code",
      "source": [
        "!mkdir drive/MyDrive/gisaid/data"
      ],
      "metadata": {
        "id": "iwt_VR2hXEBF"
      },
      "id": "iwt_VR2hXEBF",
      "execution_count": 3,
      "outputs": []
    },
    {
      "cell_type": "code",
      "execution_count": 4,
      "id": "d1be8a6e-e438-4ff5-ab96-aea4fd88de04",
      "metadata": {
        "id": "d1be8a6e-e438-4ff5-ab96-aea4fd88de04"
      },
      "outputs": [],
      "source": [
        "! tar -xf drive/MyDrive/gisaid/spikeprot0403.tar.tar.xz -C drive/MyDrive/gisaid/data/"
      ]
    },
    {
      "cell_type": "code",
      "execution_count": 6,
      "id": "62f313e9-6b1b-455d-9ee2-f22d9916e4a4",
      "metadata": {
        "colab": {
          "base_uri": "https://localhost:8080/"
        },
        "id": "62f313e9-6b1b-455d-9ee2-f22d9916e4a4",
        "outputId": "2d03baa2-5738-4d63-92eb-af9d36745a32"
      },
      "outputs": [
        {
          "output_type": "stream",
          "name": "stdout",
          "text": [
            "METHOD_for_generating_allprot_spikeprot.txt\n",
            "FASTA_header_format_for_allprot_spikeprot.txt\n",
            "spikeprot0403.fasta\n"
          ]
        }
      ],
      "source": [
        "! tar -xf drive/MyDrive/gisaid/data/spikeprot0403.tar -v -C drive/MyDrive/gisaid/data/"
      ]
    },
    {
      "cell_type": "code",
      "execution_count": 159,
      "id": "e7b82f47",
      "metadata": {
        "id": "e7b82f47"
      },
      "outputs": [],
      "source": [
        "! tar -xf drive/MyDrive/gisaid/metadata_tsv_2022_04_02.tar.xz -C drive/MyDrive/gisaid/data/\n"
      ]
    },
    {
      "cell_type": "code",
      "execution_count": null,
      "id": "8771e3f2-6806-47c7-b942-4a6f588ad9db",
      "metadata": {
        "id": "8771e3f2-6806-47c7-b942-4a6f588ad9db",
        "outputId": "1c1a446e-24f3-4225-8359-d13f20173820"
      },
      "outputs": [
        {
          "name": "stdout",
          "output_type": "stream",
          "text": [
            "FASTA header format:\n",
            ">Gene name|Isolate name|YYYY-MM-DD|Isolate ID|Passage details/history|Type^^location/state|Host|Originating lab|Submitting lab|Submitter|Location\n"
          ]
        }
      ],
      "source": [
        "! cat drive/MyDrive/gisaid/data/FASTA_header_format_for_allprot_spikeprot.txt"
      ]
    },
    {
      "cell_type": "code",
      "execution_count": 7,
      "id": "e052113a-dc52-4225-ac3f-a4d088fb9710",
      "metadata": {
        "colab": {
          "base_uri": "https://localhost:8080/"
        },
        "id": "e052113a-dc52-4225-ac3f-a4d088fb9710",
        "outputId": "773ef351-211a-440e-e333-6b0d4c7aa764"
      },
      "outputs": [
        {
          "output_type": "stream",
          "name": "stdout",
          "text": [
            "The protein sequences found in allprot.MMDD.fasta and spikeprot.MMDD.fasta are based on all (unfiltered) submissions to EpiCoV. Each nucleotide genome is individually aligned to the reference hCoV-19/Wuhan/WIV04/2019 (EPI_ISL_402124) using mafft https://doi.org/10.1093/molbev/mst010 with the command:\r\n",
            "mafft --thread 1 --quiet input.fasta > output.fasta\r\n",
            "\r\n",
            "For each of the aligned sequences, we retrieved the coding sequences for each protein based on the following boundary positions in the hCoV-19/Wuhan/WIV04/2019 reference:\r\n",
            "\"NSP1\",\"266-805\",\r\n",
            "\"NSP2\",\"806-2719\",\r\n",
            "\"NSP3\",\"2720-8554\",\r\n",
            "\"NSP4\",\"8555-10054\",\r\n",
            "\"NSP5\",\"10055-10972\",\r\n",
            "\"NSP6\",\"10973-11842\",\r\n",
            "\"NSP7\",\"11843-12091\",\r\n",
            "\"NSP8\",\"12092-12685\",\r\n",
            "\"NSP9\",\"12686-13024\",\r\n",
            "\"NSP10\",\"13025-13441\",\r\n",
            "\"NSP11\",\"13442-13480\",\r\n",
            "\"NSP12\",\"13442-13468|13468-16236\",\r\n",
            "\"NSP13\",\"16237-18039\",\r\n",
            "\"NSP14\",\"18040-19620\",\r\n",
            "\"NSP15\",\"19621-20658\",\r\n",
            "\"NSP16\",\"20659-21552\",\r\n",
            "\"Spike\",\"21563-25384\",\r\n",
            "\"NS3\",\"25393-26220\",\r\n",
            "\"E\",\"26245-26472\",\r\n",
            "\"M\",\"26523-27191\",\r\n",
            "\"NS6\",\"27202-27387\",\r\n",
            "\"NS7a\",\"27394-27759\",\r\n",
            "\"NS7b\",\"27756-27887\",\r\n",
            "\"NS8\",\"27894-28259\",\r\n",
            "\"N\",\"28274-29533\",\r\n",
            "\"NS9b\",\"28284-28577\",\r\n",
            "\"NS9c\",\"28734-28955\"\r\n",
            "\r\n",
            "Low quality regions (represented by NNNNs in the nucleotide genome) and codons with ambiguous bases are translated into \"X\". The resulting translated protein sequences will be excluded if they are fewer than 10aa in length. Only Spike protein sequences are included in spikeprot.MMDD.fasta\r\n"
          ]
        }
      ],
      "source": [
        "! cat drive/MyDrive/gisaid/data/METHOD_for_generating_allprot_spikeprot.txt"
      ]
    },
    {
      "cell_type": "code",
      "source": [
        "! pip install bio"
      ],
      "metadata": {
        "colab": {
          "base_uri": "https://localhost:8080/"
        },
        "id": "M2nYNqmRak49",
        "outputId": "de4e962e-a6ed-45df-c931-2e550a0f2244"
      },
      "id": "M2nYNqmRak49",
      "execution_count": 125,
      "outputs": [
        {
          "output_type": "stream",
          "name": "stdout",
          "text": [
            "Requirement already satisfied: bio in /usr/local/lib/python3.7/dist-packages (1.3.8)\n",
            "Requirement already satisfied: biopython>=1.79 in /usr/local/lib/python3.7/dist-packages (from bio) (1.79)\n",
            "Requirement already satisfied: mygene in /usr/local/lib/python3.7/dist-packages (from bio) (3.2.2)\n",
            "Requirement already satisfied: tqdm in /usr/local/lib/python3.7/dist-packages (from bio) (4.63.0)\n",
            "Requirement already satisfied: requests in /usr/local/lib/python3.7/dist-packages (from bio) (2.23.0)\n",
            "Requirement already satisfied: numpy in /usr/local/lib/python3.7/dist-packages (from biopython>=1.79->bio) (1.21.5)\n",
            "Requirement already satisfied: biothings-client>=0.2.6 in /usr/local/lib/python3.7/dist-packages (from mygene->bio) (0.2.6)\n",
            "Requirement already satisfied: idna<3,>=2.5 in /usr/local/lib/python3.7/dist-packages (from requests->bio) (2.10)\n",
            "Requirement already satisfied: chardet<4,>=3.0.2 in /usr/local/lib/python3.7/dist-packages (from requests->bio) (3.0.4)\n",
            "Requirement already satisfied: urllib3!=1.25.0,!=1.25.1,<1.26,>=1.21.1 in /usr/local/lib/python3.7/dist-packages (from requests->bio) (1.24.3)\n",
            "Requirement already satisfied: certifi>=2017.4.17 in /usr/local/lib/python3.7/dist-packages (from requests->bio) (2021.10.8)\n"
          ]
        }
      ]
    },
    {
      "cell_type": "code",
      "execution_count": 126,
      "id": "f0a2d198-6ea3-4d59-ba4c-ab3bf89483e7",
      "metadata": {
        "id": "f0a2d198-6ea3-4d59-ba4c-ab3bf89483e7"
      },
      "outputs": [],
      "source": [
        "from Bio import Seq, SeqIO\n"
      ]
    },
    {
      "cell_type": "code",
      "execution_count": 232,
      "id": "f1e420f3",
      "metadata": {
        "id": "f1e420f3"
      },
      "outputs": [],
      "source": [
        "fnames=['drive/MyDrive/gisaid/data/spikeprot0403.fasta']\n",
        "seqs = {}\n",
        "for fname in fnames:\n",
        "    i =0 \n",
        "    for record in SeqIO.parse(fname, 'fasta'):\n",
        "        #print(record.description)\n",
        "        if record.seq not in seqs:\n",
        "            seqs[record.seq] = []\n",
        "        id = record.description.split('|')[3]\n",
        "        seqs[record.seq].append(id)    \n",
        "        i+=1\n",
        "        if i >50000:\n",
        "            break"
      ]
    },
    {
      "cell_type": "code",
      "source": [
        "ids=[x[1] for x in  seqs.items()]\n",
        "len(ids)"
      ],
      "metadata": {
        "colab": {
          "base_uri": "https://localhost:8080/"
        },
        "id": "-kFPcgsGegpW",
        "outputId": "7caa0c67-a980-467e-fec1-e8ca5ab45cc7"
      },
      "id": "-kFPcgsGegpW",
      "execution_count": 233,
      "outputs": [
        {
          "output_type": "execute_result",
          "data": {
            "text/plain": [
              "13476"
            ]
          },
          "metadata": {},
          "execution_count": 233
        }
      ]
    },
    {
      "cell_type": "code",
      "source": [
        "flat_list = [item for sublist in ids for item in sublist]"
      ],
      "metadata": {
        "id": "evsRsaT9pbXP"
      },
      "id": "evsRsaT9pbXP",
      "execution_count": 234,
      "outputs": []
    },
    {
      "cell_type": "code",
      "source": [
        "len(flat_list)"
      ],
      "metadata": {
        "colab": {
          "base_uri": "https://localhost:8080/"
        },
        "id": "XygIPvwvpviB",
        "outputId": "61eda7a1-2ed0-4e68-ed5b-2c90596778d3"
      },
      "id": "XygIPvwvpviB",
      "execution_count": 235,
      "outputs": [
        {
          "output_type": "execute_result",
          "data": {
            "text/plain": [
              "50001"
            ]
          },
          "metadata": {},
          "execution_count": 235
        }
      ]
    },
    {
      "cell_type": "code",
      "execution_count": 236,
      "id": "69154c75-a865-4d3b-83cf-137ed32b901d",
      "metadata": {
        "colab": {
          "base_uri": "https://localhost:8080/"
        },
        "id": "69154c75-a865-4d3b-83cf-137ed32b901d",
        "outputId": "8c316100-12dc-4293-92b9-2678dadbb23c"
      },
      "outputs": [
        {
          "output_type": "stream",
          "name": "stdout",
          "text": [
            "FASTA_header_format_for_allprot_spikeprot.txt  readme.txt\n",
            "metadata.tsv\t\t\t\t       spikeprot0403.fasta\n",
            "METHOD_for_generating_allprot_spikeprot.txt    spikeprot0403.tar\n"
          ]
        }
      ],
      "source": [
        "! ls drive/MyDrive/gisaid/data"
      ]
    },
    {
      "cell_type": "code",
      "execution_count": null,
      "id": "f565e3ae",
      "metadata": {
        "id": "f565e3ae"
      },
      "outputs": [],
      "source": [
        "meta_fnames=['drive/MyDrive/gisaid/data/metadata.tsv']\n",
        "\n",
        "metas={}\n",
        "for fname in meta_fnames:\n",
        "    with open(fname) as f:\n",
        "        header = f.readline().rstrip().split('\\t')\n",
        "        for line in f:\n",
        "            fields = line.rstrip().split('\\t')\n",
        "            accession = fields[2]\n",
        "            meta = {}\n",
        "            if accession in flat_list:  \n",
        "                for key, value in zip(header, fields):\n",
        "                    meta[key] = value\n",
        "                metas[accession] = meta\n",
        "            if len(metas)==len(flat_list):\n",
        "                break\n",
        "\n"
      ]
    },
    {
      "cell_type": "code",
      "source": [
        "len(metas)"
      ],
      "metadata": {
        "id": "5YJKvb86iIS8"
      },
      "id": "5YJKvb86iIS8",
      "execution_count": null,
      "outputs": []
    },
    {
      "cell_type": "code",
      "source": [
        "%%time\n",
        "from collections import defaultdict\n",
        "final_seqs=defaultdict(dict)\n",
        "for item in seqs.items():\n",
        "    key=item[0]\n",
        "    values=item[1]\n",
        "    if key not in final_seqs:\n",
        "                final_seqs[key] = []\n",
        "    for val in values:\n",
        "        final_seqs[key].append(metas[val])"
      ],
      "metadata": {
        "id": "9cQbyMk4NppK"
      },
      "id": "9cQbyMk4NppK",
      "execution_count": null,
      "outputs": []
    },
    {
      "cell_type": "code",
      "source": [
        "len(final_seqs)"
      ],
      "metadata": {
        "id": "OOdidVqjOK7R"
      },
      "id": "OOdidVqjOK7R",
      "execution_count": null,
      "outputs": []
    },
    {
      "cell_type": "code",
      "execution_count": 185,
      "id": "1f31e56e",
      "metadata": {
        "colab": {
          "base_uri": "https://localhost:8080/"
        },
        "id": "1f31e56e",
        "outputId": "407e439b-35f2-42cd-e586-d0ede0d5ab4c"
      },
      "outputs": [
        {
          "output_type": "execute_result",
          "data": {
            "text/plain": [
              "{'AA Substitutions': '()',\n",
              " 'Accession ID': 'EPI_ISL_402124',\n",
              " 'Additional location information': 'Retailer at Huanan Seafood Wholesale Market',\n",
              " 'Clade': 'L',\n",
              " 'Collection date': '2019-12-30',\n",
              " 'GC-Content': '0.379880231508',\n",
              " 'Gender': 'Female',\n",
              " 'Host': 'Human',\n",
              " 'Is complete?': 'True',\n",
              " 'Is high coverage?': 'True',\n",
              " 'Is low coverage?': '',\n",
              " 'Is reference?': 'True',\n",
              " 'Location': 'Asia / China / Hubei / Wuhan',\n",
              " 'N-Content': '',\n",
              " 'Pango lineage': 'B',\n",
              " 'Pangolin version': '2022-02-28',\n",
              " 'Patient age': '49',\n",
              " 'Sequence length': '29891',\n",
              " 'Submission date': '2020-01-11',\n",
              " 'Type': 'betacoronavirus',\n",
              " 'Variant': '',\n",
              " 'Virus name': 'hCoV-19/Wuhan/WIV04/2019'}"
            ]
          },
          "metadata": {},
          "execution_count": 185
        }
      ],
      "source": [
        "val"
      ]
    },
    {
      "cell_type": "code",
      "source": [
        "[x for x in flat_list]"
      ],
      "metadata": {
        "colab": {
          "base_uri": "https://localhost:8080/"
        },
        "id": "jia8LSG-rKDZ",
        "outputId": "ccbf203f-8f3a-4b1e-bd55-308426d411d1"
      },
      "id": "jia8LSG-rKDZ",
      "execution_count": 108,
      "outputs": [
        {
          "output_type": "execute_result",
          "data": {
            "text/plain": [
              "['EPI_ISL_402124',\n",
              " 'EPI_ISL_2155626',\n",
              " 'EPI_ISL_940774',\n",
              " 'EPI_ISL_1097311',\n",
              " 'EPI_ISL_960831',\n",
              " 'EPI_ISL_1179245',\n",
              " 'EPI_ISL_1178570',\n",
              " 'EPI_ISL_1178071',\n",
              " 'EPI_ISL_1180165',\n",
              " 'EPI_ISL_1179150',\n",
              " 'EPI_ISL_1178665']"
            ]
          },
          "metadata": {},
          "execution_count": 108
        }
      ]
    },
    {
      "cell_type": "code",
      "source": [
        "for seq in seqs.keys():\n",
        "    for y in seqs[x]:\n",
        "        print(seqs[seq])\n",
        "        #seqs[seq].append(metas[y])"
      ],
      "metadata": {
        "colab": {
          "base_uri": "https://localhost:8080/"
        },
        "id": "TfNS3xWFqzSi",
        "outputId": "9efd289d-2256-44b2-b9df-a7bec33063e8"
      },
      "id": "TfNS3xWFqzSi",
      "execution_count": 123,
      "outputs": [
        {
          "output_type": "stream",
          "name": "stdout",
          "text": [
            "['EPI_ISL_402124', {'Virus name': 'hCoV-19/England/NOTT-2518BB/2021', 'Type': 'betacoronavirus', 'Accession ID': 'EPI_ISL_1178665', 'Collection date': '2021-02-15', 'Location': 'Europe / United Kingdom / England', 'Additional location information': '', 'Sequence length': '29763', 'Host': 'Human', 'Patient age': 'unknown', 'Gender': 'unknown', 'Clade': 'GRY', 'Pango lineage': 'B.1.1.7', 'Pangolin version': '2022-02-28', 'Variant': 'VOC Alpha GRY (B.1.1.7+Q.*) first detected in the UK', 'AA Substitutions': '(Spike_H69del,NS8_Q27stop,NSP3_T183I,NSP3_V473F,Spike_T716I,NSP6_S106del,N_R203K,Spike_A570D,Spike_N501Y,NSP16_D179G,NSP3_I1412T,NS8_R52I,Spike_P681H,Spike_Y144del,Spike_F565L,NSP2_L550F,NSP6_G107del,NSP3_A890D,Spike_D1118H,NSP6_F108del,NS8_Y73C,N_G204R,Spike_V70del,NSP12_P323L,Spike_D614G,N_D3L,Spike_S982A,N_S235F)', 'Submission date': '2021-03-08', 'Is reference?': '', 'Is complete?': 'True', 'Is high coverage?': 'True', 'Is low coverage?': '', 'N-Content': '', 'GC-Content': '0.379867620872'}]\n",
            "['EPI_ISL_402124', {'Virus name': 'hCoV-19/England/NOTT-2518BB/2021', 'Type': 'betacoronavirus', 'Accession ID': 'EPI_ISL_1178665', 'Collection date': '2021-02-15', 'Location': 'Europe / United Kingdom / England', 'Additional location information': '', 'Sequence length': '29763', 'Host': 'Human', 'Patient age': 'unknown', 'Gender': 'unknown', 'Clade': 'GRY', 'Pango lineage': 'B.1.1.7', 'Pangolin version': '2022-02-28', 'Variant': 'VOC Alpha GRY (B.1.1.7+Q.*) first detected in the UK', 'AA Substitutions': '(Spike_H69del,NS8_Q27stop,NSP3_T183I,NSP3_V473F,Spike_T716I,NSP6_S106del,N_R203K,Spike_A570D,Spike_N501Y,NSP16_D179G,NSP3_I1412T,NS8_R52I,Spike_P681H,Spike_Y144del,Spike_F565L,NSP2_L550F,NSP6_G107del,NSP3_A890D,Spike_D1118H,NSP6_F108del,NS8_Y73C,N_G204R,Spike_V70del,NSP12_P323L,Spike_D614G,N_D3L,Spike_S982A,N_S235F)', 'Submission date': '2021-03-08', 'Is reference?': '', 'Is complete?': 'True', 'Is high coverage?': 'True', 'Is low coverage?': '', 'N-Content': '', 'GC-Content': '0.379867620872'}]\n",
            "['EPI_ISL_2155626', {'Virus name': 'hCoV-19/England/NOTT-2518BB/2021', 'Type': 'betacoronavirus', 'Accession ID': 'EPI_ISL_1178665', 'Collection date': '2021-02-15', 'Location': 'Europe / United Kingdom / England', 'Additional location information': '', 'Sequence length': '29763', 'Host': 'Human', 'Patient age': 'unknown', 'Gender': 'unknown', 'Clade': 'GRY', 'Pango lineage': 'B.1.1.7', 'Pangolin version': '2022-02-28', 'Variant': 'VOC Alpha GRY (B.1.1.7+Q.*) first detected in the UK', 'AA Substitutions': '(Spike_H69del,NS8_Q27stop,NSP3_T183I,NSP3_V473F,Spike_T716I,NSP6_S106del,N_R203K,Spike_A570D,Spike_N501Y,NSP16_D179G,NSP3_I1412T,NS8_R52I,Spike_P681H,Spike_Y144del,Spike_F565L,NSP2_L550F,NSP6_G107del,NSP3_A890D,Spike_D1118H,NSP6_F108del,NS8_Y73C,N_G204R,Spike_V70del,NSP12_P323L,Spike_D614G,N_D3L,Spike_S982A,N_S235F)', 'Submission date': '2021-03-08', 'Is reference?': '', 'Is complete?': 'True', 'Is high coverage?': 'True', 'Is low coverage?': '', 'N-Content': '', 'GC-Content': '0.379867620872'}]\n",
            "['EPI_ISL_2155626', {'Virus name': 'hCoV-19/England/NOTT-2518BB/2021', 'Type': 'betacoronavirus', 'Accession ID': 'EPI_ISL_1178665', 'Collection date': '2021-02-15', 'Location': 'Europe / United Kingdom / England', 'Additional location information': '', 'Sequence length': '29763', 'Host': 'Human', 'Patient age': 'unknown', 'Gender': 'unknown', 'Clade': 'GRY', 'Pango lineage': 'B.1.1.7', 'Pangolin version': '2022-02-28', 'Variant': 'VOC Alpha GRY (B.1.1.7+Q.*) first detected in the UK', 'AA Substitutions': '(Spike_H69del,NS8_Q27stop,NSP3_T183I,NSP3_V473F,Spike_T716I,NSP6_S106del,N_R203K,Spike_A570D,Spike_N501Y,NSP16_D179G,NSP3_I1412T,NS8_R52I,Spike_P681H,Spike_Y144del,Spike_F565L,NSP2_L550F,NSP6_G107del,NSP3_A890D,Spike_D1118H,NSP6_F108del,NS8_Y73C,N_G204R,Spike_V70del,NSP12_P323L,Spike_D614G,N_D3L,Spike_S982A,N_S235F)', 'Submission date': '2021-03-08', 'Is reference?': '', 'Is complete?': 'True', 'Is high coverage?': 'True', 'Is low coverage?': '', 'N-Content': '', 'GC-Content': '0.379867620872'}]\n",
            "['EPI_ISL_940774', {'Virus name': 'hCoV-19/England/NOTT-2518BB/2021', 'Type': 'betacoronavirus', 'Accession ID': 'EPI_ISL_1178665', 'Collection date': '2021-02-15', 'Location': 'Europe / United Kingdom / England', 'Additional location information': '', 'Sequence length': '29763', 'Host': 'Human', 'Patient age': 'unknown', 'Gender': 'unknown', 'Clade': 'GRY', 'Pango lineage': 'B.1.1.7', 'Pangolin version': '2022-02-28', 'Variant': 'VOC Alpha GRY (B.1.1.7+Q.*) first detected in the UK', 'AA Substitutions': '(Spike_H69del,NS8_Q27stop,NSP3_T183I,NSP3_V473F,Spike_T716I,NSP6_S106del,N_R203K,Spike_A570D,Spike_N501Y,NSP16_D179G,NSP3_I1412T,NS8_R52I,Spike_P681H,Spike_Y144del,Spike_F565L,NSP2_L550F,NSP6_G107del,NSP3_A890D,Spike_D1118H,NSP6_F108del,NS8_Y73C,N_G204R,Spike_V70del,NSP12_P323L,Spike_D614G,N_D3L,Spike_S982A,N_S235F)', 'Submission date': '2021-03-08', 'Is reference?': '', 'Is complete?': 'True', 'Is high coverage?': 'True', 'Is low coverage?': '', 'N-Content': '', 'GC-Content': '0.379867620872'}]\n",
            "['EPI_ISL_940774', {'Virus name': 'hCoV-19/England/NOTT-2518BB/2021', 'Type': 'betacoronavirus', 'Accession ID': 'EPI_ISL_1178665', 'Collection date': '2021-02-15', 'Location': 'Europe / United Kingdom / England', 'Additional location information': '', 'Sequence length': '29763', 'Host': 'Human', 'Patient age': 'unknown', 'Gender': 'unknown', 'Clade': 'GRY', 'Pango lineage': 'B.1.1.7', 'Pangolin version': '2022-02-28', 'Variant': 'VOC Alpha GRY (B.1.1.7+Q.*) first detected in the UK', 'AA Substitutions': '(Spike_H69del,NS8_Q27stop,NSP3_T183I,NSP3_V473F,Spike_T716I,NSP6_S106del,N_R203K,Spike_A570D,Spike_N501Y,NSP16_D179G,NSP3_I1412T,NS8_R52I,Spike_P681H,Spike_Y144del,Spike_F565L,NSP2_L550F,NSP6_G107del,NSP3_A890D,Spike_D1118H,NSP6_F108del,NS8_Y73C,N_G204R,Spike_V70del,NSP12_P323L,Spike_D614G,N_D3L,Spike_S982A,N_S235F)', 'Submission date': '2021-03-08', 'Is reference?': '', 'Is complete?': 'True', 'Is high coverage?': 'True', 'Is low coverage?': '', 'N-Content': '', 'GC-Content': '0.379867620872'}]\n",
            "['EPI_ISL_1097311', {'Virus name': 'hCoV-19/England/NOTT-2518BB/2021', 'Type': 'betacoronavirus', 'Accession ID': 'EPI_ISL_1178665', 'Collection date': '2021-02-15', 'Location': 'Europe / United Kingdom / England', 'Additional location information': '', 'Sequence length': '29763', 'Host': 'Human', 'Patient age': 'unknown', 'Gender': 'unknown', 'Clade': 'GRY', 'Pango lineage': 'B.1.1.7', 'Pangolin version': '2022-02-28', 'Variant': 'VOC Alpha GRY (B.1.1.7+Q.*) first detected in the UK', 'AA Substitutions': '(Spike_H69del,NS8_Q27stop,NSP3_T183I,NSP3_V473F,Spike_T716I,NSP6_S106del,N_R203K,Spike_A570D,Spike_N501Y,NSP16_D179G,NSP3_I1412T,NS8_R52I,Spike_P681H,Spike_Y144del,Spike_F565L,NSP2_L550F,NSP6_G107del,NSP3_A890D,Spike_D1118H,NSP6_F108del,NS8_Y73C,N_G204R,Spike_V70del,NSP12_P323L,Spike_D614G,N_D3L,Spike_S982A,N_S235F)', 'Submission date': '2021-03-08', 'Is reference?': '', 'Is complete?': 'True', 'Is high coverage?': 'True', 'Is low coverage?': '', 'N-Content': '', 'GC-Content': '0.379867620872'}]\n",
            "['EPI_ISL_1097311', {'Virus name': 'hCoV-19/England/NOTT-2518BB/2021', 'Type': 'betacoronavirus', 'Accession ID': 'EPI_ISL_1178665', 'Collection date': '2021-02-15', 'Location': 'Europe / United Kingdom / England', 'Additional location information': '', 'Sequence length': '29763', 'Host': 'Human', 'Patient age': 'unknown', 'Gender': 'unknown', 'Clade': 'GRY', 'Pango lineage': 'B.1.1.7', 'Pangolin version': '2022-02-28', 'Variant': 'VOC Alpha GRY (B.1.1.7+Q.*) first detected in the UK', 'AA Substitutions': '(Spike_H69del,NS8_Q27stop,NSP3_T183I,NSP3_V473F,Spike_T716I,NSP6_S106del,N_R203K,Spike_A570D,Spike_N501Y,NSP16_D179G,NSP3_I1412T,NS8_R52I,Spike_P681H,Spike_Y144del,Spike_F565L,NSP2_L550F,NSP6_G107del,NSP3_A890D,Spike_D1118H,NSP6_F108del,NS8_Y73C,N_G204R,Spike_V70del,NSP12_P323L,Spike_D614G,N_D3L,Spike_S982A,N_S235F)', 'Submission date': '2021-03-08', 'Is reference?': '', 'Is complete?': 'True', 'Is high coverage?': 'True', 'Is low coverage?': '', 'N-Content': '', 'GC-Content': '0.379867620872'}]\n",
            "['EPI_ISL_960831', {'Virus name': 'hCoV-19/England/NOTT-2518BB/2021', 'Type': 'betacoronavirus', 'Accession ID': 'EPI_ISL_1178665', 'Collection date': '2021-02-15', 'Location': 'Europe / United Kingdom / England', 'Additional location information': '', 'Sequence length': '29763', 'Host': 'Human', 'Patient age': 'unknown', 'Gender': 'unknown', 'Clade': 'GRY', 'Pango lineage': 'B.1.1.7', 'Pangolin version': '2022-02-28', 'Variant': 'VOC Alpha GRY (B.1.1.7+Q.*) first detected in the UK', 'AA Substitutions': '(Spike_H69del,NS8_Q27stop,NSP3_T183I,NSP3_V473F,Spike_T716I,NSP6_S106del,N_R203K,Spike_A570D,Spike_N501Y,NSP16_D179G,NSP3_I1412T,NS8_R52I,Spike_P681H,Spike_Y144del,Spike_F565L,NSP2_L550F,NSP6_G107del,NSP3_A890D,Spike_D1118H,NSP6_F108del,NS8_Y73C,N_G204R,Spike_V70del,NSP12_P323L,Spike_D614G,N_D3L,Spike_S982A,N_S235F)', 'Submission date': '2021-03-08', 'Is reference?': '', 'Is complete?': 'True', 'Is high coverage?': 'True', 'Is low coverage?': '', 'N-Content': '', 'GC-Content': '0.379867620872'}]\n",
            "['EPI_ISL_960831', {'Virus name': 'hCoV-19/England/NOTT-2518BB/2021', 'Type': 'betacoronavirus', 'Accession ID': 'EPI_ISL_1178665', 'Collection date': '2021-02-15', 'Location': 'Europe / United Kingdom / England', 'Additional location information': '', 'Sequence length': '29763', 'Host': 'Human', 'Patient age': 'unknown', 'Gender': 'unknown', 'Clade': 'GRY', 'Pango lineage': 'B.1.1.7', 'Pangolin version': '2022-02-28', 'Variant': 'VOC Alpha GRY (B.1.1.7+Q.*) first detected in the UK', 'AA Substitutions': '(Spike_H69del,NS8_Q27stop,NSP3_T183I,NSP3_V473F,Spike_T716I,NSP6_S106del,N_R203K,Spike_A570D,Spike_N501Y,NSP16_D179G,NSP3_I1412T,NS8_R52I,Spike_P681H,Spike_Y144del,Spike_F565L,NSP2_L550F,NSP6_G107del,NSP3_A890D,Spike_D1118H,NSP6_F108del,NS8_Y73C,N_G204R,Spike_V70del,NSP12_P323L,Spike_D614G,N_D3L,Spike_S982A,N_S235F)', 'Submission date': '2021-03-08', 'Is reference?': '', 'Is complete?': 'True', 'Is high coverage?': 'True', 'Is low coverage?': '', 'N-Content': '', 'GC-Content': '0.379867620872'}]\n",
            "['EPI_ISL_1179245', {'Virus name': 'hCoV-19/England/NOTT-2518BB/2021', 'Type': 'betacoronavirus', 'Accession ID': 'EPI_ISL_1178665', 'Collection date': '2021-02-15', 'Location': 'Europe / United Kingdom / England', 'Additional location information': '', 'Sequence length': '29763', 'Host': 'Human', 'Patient age': 'unknown', 'Gender': 'unknown', 'Clade': 'GRY', 'Pango lineage': 'B.1.1.7', 'Pangolin version': '2022-02-28', 'Variant': 'VOC Alpha GRY (B.1.1.7+Q.*) first detected in the UK', 'AA Substitutions': '(Spike_H69del,NS8_Q27stop,NSP3_T183I,NSP3_V473F,Spike_T716I,NSP6_S106del,N_R203K,Spike_A570D,Spike_N501Y,NSP16_D179G,NSP3_I1412T,NS8_R52I,Spike_P681H,Spike_Y144del,Spike_F565L,NSP2_L550F,NSP6_G107del,NSP3_A890D,Spike_D1118H,NSP6_F108del,NS8_Y73C,N_G204R,Spike_V70del,NSP12_P323L,Spike_D614G,N_D3L,Spike_S982A,N_S235F)', 'Submission date': '2021-03-08', 'Is reference?': '', 'Is complete?': 'True', 'Is high coverage?': 'True', 'Is low coverage?': '', 'N-Content': '', 'GC-Content': '0.379867620872'}]\n",
            "['EPI_ISL_1179245', {'Virus name': 'hCoV-19/England/NOTT-2518BB/2021', 'Type': 'betacoronavirus', 'Accession ID': 'EPI_ISL_1178665', 'Collection date': '2021-02-15', 'Location': 'Europe / United Kingdom / England', 'Additional location information': '', 'Sequence length': '29763', 'Host': 'Human', 'Patient age': 'unknown', 'Gender': 'unknown', 'Clade': 'GRY', 'Pango lineage': 'B.1.1.7', 'Pangolin version': '2022-02-28', 'Variant': 'VOC Alpha GRY (B.1.1.7+Q.*) first detected in the UK', 'AA Substitutions': '(Spike_H69del,NS8_Q27stop,NSP3_T183I,NSP3_V473F,Spike_T716I,NSP6_S106del,N_R203K,Spike_A570D,Spike_N501Y,NSP16_D179G,NSP3_I1412T,NS8_R52I,Spike_P681H,Spike_Y144del,Spike_F565L,NSP2_L550F,NSP6_G107del,NSP3_A890D,Spike_D1118H,NSP6_F108del,NS8_Y73C,N_G204R,Spike_V70del,NSP12_P323L,Spike_D614G,N_D3L,Spike_S982A,N_S235F)', 'Submission date': '2021-03-08', 'Is reference?': '', 'Is complete?': 'True', 'Is high coverage?': 'True', 'Is low coverage?': '', 'N-Content': '', 'GC-Content': '0.379867620872'}]\n",
            "['EPI_ISL_1178570', 'EPI_ISL_1178071', {'Virus name': 'hCoV-19/England/NOTT-2518BB/2021', 'Type': 'betacoronavirus', 'Accession ID': 'EPI_ISL_1178665', 'Collection date': '2021-02-15', 'Location': 'Europe / United Kingdom / England', 'Additional location information': '', 'Sequence length': '29763', 'Host': 'Human', 'Patient age': 'unknown', 'Gender': 'unknown', 'Clade': 'GRY', 'Pango lineage': 'B.1.1.7', 'Pangolin version': '2022-02-28', 'Variant': 'VOC Alpha GRY (B.1.1.7+Q.*) first detected in the UK', 'AA Substitutions': '(Spike_H69del,NS8_Q27stop,NSP3_T183I,NSP3_V473F,Spike_T716I,NSP6_S106del,N_R203K,Spike_A570D,Spike_N501Y,NSP16_D179G,NSP3_I1412T,NS8_R52I,Spike_P681H,Spike_Y144del,Spike_F565L,NSP2_L550F,NSP6_G107del,NSP3_A890D,Spike_D1118H,NSP6_F108del,NS8_Y73C,N_G204R,Spike_V70del,NSP12_P323L,Spike_D614G,N_D3L,Spike_S982A,N_S235F)', 'Submission date': '2021-03-08', 'Is reference?': '', 'Is complete?': 'True', 'Is high coverage?': 'True', 'Is low coverage?': '', 'N-Content': '', 'GC-Content': '0.379867620872'}]\n",
            "['EPI_ISL_1178570', 'EPI_ISL_1178071', {'Virus name': 'hCoV-19/England/NOTT-2518BB/2021', 'Type': 'betacoronavirus', 'Accession ID': 'EPI_ISL_1178665', 'Collection date': '2021-02-15', 'Location': 'Europe / United Kingdom / England', 'Additional location information': '', 'Sequence length': '29763', 'Host': 'Human', 'Patient age': 'unknown', 'Gender': 'unknown', 'Clade': 'GRY', 'Pango lineage': 'B.1.1.7', 'Pangolin version': '2022-02-28', 'Variant': 'VOC Alpha GRY (B.1.1.7+Q.*) first detected in the UK', 'AA Substitutions': '(Spike_H69del,NS8_Q27stop,NSP3_T183I,NSP3_V473F,Spike_T716I,NSP6_S106del,N_R203K,Spike_A570D,Spike_N501Y,NSP16_D179G,NSP3_I1412T,NS8_R52I,Spike_P681H,Spike_Y144del,Spike_F565L,NSP2_L550F,NSP6_G107del,NSP3_A890D,Spike_D1118H,NSP6_F108del,NS8_Y73C,N_G204R,Spike_V70del,NSP12_P323L,Spike_D614G,N_D3L,Spike_S982A,N_S235F)', 'Submission date': '2021-03-08', 'Is reference?': '', 'Is complete?': 'True', 'Is high coverage?': 'True', 'Is low coverage?': '', 'N-Content': '', 'GC-Content': '0.379867620872'}]\n",
            "['EPI_ISL_1180165', {'Virus name': 'hCoV-19/England/NOTT-2518BB/2021', 'Type': 'betacoronavirus', 'Accession ID': 'EPI_ISL_1178665', 'Collection date': '2021-02-15', 'Location': 'Europe / United Kingdom / England', 'Additional location information': '', 'Sequence length': '29763', 'Host': 'Human', 'Patient age': 'unknown', 'Gender': 'unknown', 'Clade': 'GRY', 'Pango lineage': 'B.1.1.7', 'Pangolin version': '2022-02-28', 'Variant': 'VOC Alpha GRY (B.1.1.7+Q.*) first detected in the UK', 'AA Substitutions': '(Spike_H69del,NS8_Q27stop,NSP3_T183I,NSP3_V473F,Spike_T716I,NSP6_S106del,N_R203K,Spike_A570D,Spike_N501Y,NSP16_D179G,NSP3_I1412T,NS8_R52I,Spike_P681H,Spike_Y144del,Spike_F565L,NSP2_L550F,NSP6_G107del,NSP3_A890D,Spike_D1118H,NSP6_F108del,NS8_Y73C,N_G204R,Spike_V70del,NSP12_P323L,Spike_D614G,N_D3L,Spike_S982A,N_S235F)', 'Submission date': '2021-03-08', 'Is reference?': '', 'Is complete?': 'True', 'Is high coverage?': 'True', 'Is low coverage?': '', 'N-Content': '', 'GC-Content': '0.379867620872'}]\n",
            "['EPI_ISL_1180165', {'Virus name': 'hCoV-19/England/NOTT-2518BB/2021', 'Type': 'betacoronavirus', 'Accession ID': 'EPI_ISL_1178665', 'Collection date': '2021-02-15', 'Location': 'Europe / United Kingdom / England', 'Additional location information': '', 'Sequence length': '29763', 'Host': 'Human', 'Patient age': 'unknown', 'Gender': 'unknown', 'Clade': 'GRY', 'Pango lineage': 'B.1.1.7', 'Pangolin version': '2022-02-28', 'Variant': 'VOC Alpha GRY (B.1.1.7+Q.*) first detected in the UK', 'AA Substitutions': '(Spike_H69del,NS8_Q27stop,NSP3_T183I,NSP3_V473F,Spike_T716I,NSP6_S106del,N_R203K,Spike_A570D,Spike_N501Y,NSP16_D179G,NSP3_I1412T,NS8_R52I,Spike_P681H,Spike_Y144del,Spike_F565L,NSP2_L550F,NSP6_G107del,NSP3_A890D,Spike_D1118H,NSP6_F108del,NS8_Y73C,N_G204R,Spike_V70del,NSP12_P323L,Spike_D614G,N_D3L,Spike_S982A,N_S235F)', 'Submission date': '2021-03-08', 'Is reference?': '', 'Is complete?': 'True', 'Is high coverage?': 'True', 'Is low coverage?': '', 'N-Content': '', 'GC-Content': '0.379867620872'}]\n",
            "['EPI_ISL_1179150', {'Virus name': 'hCoV-19/England/NOTT-2518BB/2021', 'Type': 'betacoronavirus', 'Accession ID': 'EPI_ISL_1178665', 'Collection date': '2021-02-15', 'Location': 'Europe / United Kingdom / England', 'Additional location information': '', 'Sequence length': '29763', 'Host': 'Human', 'Patient age': 'unknown', 'Gender': 'unknown', 'Clade': 'GRY', 'Pango lineage': 'B.1.1.7', 'Pangolin version': '2022-02-28', 'Variant': 'VOC Alpha GRY (B.1.1.7+Q.*) first detected in the UK', 'AA Substitutions': '(Spike_H69del,NS8_Q27stop,NSP3_T183I,NSP3_V473F,Spike_T716I,NSP6_S106del,N_R203K,Spike_A570D,Spike_N501Y,NSP16_D179G,NSP3_I1412T,NS8_R52I,Spike_P681H,Spike_Y144del,Spike_F565L,NSP2_L550F,NSP6_G107del,NSP3_A890D,Spike_D1118H,NSP6_F108del,NS8_Y73C,N_G204R,Spike_V70del,NSP12_P323L,Spike_D614G,N_D3L,Spike_S982A,N_S235F)', 'Submission date': '2021-03-08', 'Is reference?': '', 'Is complete?': 'True', 'Is high coverage?': 'True', 'Is low coverage?': '', 'N-Content': '', 'GC-Content': '0.379867620872'}]\n",
            "['EPI_ISL_1179150', {'Virus name': 'hCoV-19/England/NOTT-2518BB/2021', 'Type': 'betacoronavirus', 'Accession ID': 'EPI_ISL_1178665', 'Collection date': '2021-02-15', 'Location': 'Europe / United Kingdom / England', 'Additional location information': '', 'Sequence length': '29763', 'Host': 'Human', 'Patient age': 'unknown', 'Gender': 'unknown', 'Clade': 'GRY', 'Pango lineage': 'B.1.1.7', 'Pangolin version': '2022-02-28', 'Variant': 'VOC Alpha GRY (B.1.1.7+Q.*) first detected in the UK', 'AA Substitutions': '(Spike_H69del,NS8_Q27stop,NSP3_T183I,NSP3_V473F,Spike_T716I,NSP6_S106del,N_R203K,Spike_A570D,Spike_N501Y,NSP16_D179G,NSP3_I1412T,NS8_R52I,Spike_P681H,Spike_Y144del,Spike_F565L,NSP2_L550F,NSP6_G107del,NSP3_A890D,Spike_D1118H,NSP6_F108del,NS8_Y73C,N_G204R,Spike_V70del,NSP12_P323L,Spike_D614G,N_D3L,Spike_S982A,N_S235F)', 'Submission date': '2021-03-08', 'Is reference?': '', 'Is complete?': 'True', 'Is high coverage?': 'True', 'Is low coverage?': '', 'N-Content': '', 'GC-Content': '0.379867620872'}]\n",
            "['EPI_ISL_1178665', {'Virus name': 'hCoV-19/England/NOTT-2518BB/2021', 'Type': 'betacoronavirus', 'Accession ID': 'EPI_ISL_1178665', 'Collection date': '2021-02-15', 'Location': 'Europe / United Kingdom / England', 'Additional location information': '', 'Sequence length': '29763', 'Host': 'Human', 'Patient age': 'unknown', 'Gender': 'unknown', 'Clade': 'GRY', 'Pango lineage': 'B.1.1.7', 'Pangolin version': '2022-02-28', 'Variant': 'VOC Alpha GRY (B.1.1.7+Q.*) first detected in the UK', 'AA Substitutions': '(Spike_H69del,NS8_Q27stop,NSP3_T183I,NSP3_V473F,Spike_T716I,NSP6_S106del,N_R203K,Spike_A570D,Spike_N501Y,NSP16_D179G,NSP3_I1412T,NS8_R52I,Spike_P681H,Spike_Y144del,Spike_F565L,NSP2_L550F,NSP6_G107del,NSP3_A890D,Spike_D1118H,NSP6_F108del,NS8_Y73C,N_G204R,Spike_V70del,NSP12_P323L,Spike_D614G,N_D3L,Spike_S982A,N_S235F)', 'Submission date': '2021-03-08', 'Is reference?': '', 'Is complete?': 'True', 'Is high coverage?': 'True', 'Is low coverage?': '', 'N-Content': '', 'GC-Content': '0.379867620872'}]\n",
            "['EPI_ISL_1178665', {'Virus name': 'hCoV-19/England/NOTT-2518BB/2021', 'Type': 'betacoronavirus', 'Accession ID': 'EPI_ISL_1178665', 'Collection date': '2021-02-15', 'Location': 'Europe / United Kingdom / England', 'Additional location information': '', 'Sequence length': '29763', 'Host': 'Human', 'Patient age': 'unknown', 'Gender': 'unknown', 'Clade': 'GRY', 'Pango lineage': 'B.1.1.7', 'Pangolin version': '2022-02-28', 'Variant': 'VOC Alpha GRY (B.1.1.7+Q.*) first detected in the UK', 'AA Substitutions': '(Spike_H69del,NS8_Q27stop,NSP3_T183I,NSP3_V473F,Spike_T716I,NSP6_S106del,N_R203K,Spike_A570D,Spike_N501Y,NSP16_D179G,NSP3_I1412T,NS8_R52I,Spike_P681H,Spike_Y144del,Spike_F565L,NSP2_L550F,NSP6_G107del,NSP3_A890D,Spike_D1118H,NSP6_F108del,NS8_Y73C,N_G204R,Spike_V70del,NSP12_P323L,Spike_D614G,N_D3L,Spike_S982A,N_S235F)', 'Submission date': '2021-03-08', 'Is reference?': '', 'Is complete?': 'True', 'Is high coverage?': 'True', 'Is low coverage?': '', 'N-Content': '', 'GC-Content': '0.379867620872'}]\n"
          ]
        }
      ]
    },
    {
      "cell_type": "code",
      "source": [
        ""
      ],
      "metadata": {
        "id": "s63eZ29CqzDn"
      },
      "id": "s63eZ29CqzDn",
      "execution_count": null,
      "outputs": []
    },
    {
      "cell_type": "code",
      "source": [
        ""
      ],
      "metadata": {
        "id": "lUta3ahzqy0a"
      },
      "id": "lUta3ahzqy0a",
      "execution_count": null,
      "outputs": []
    },
    {
      "cell_type": "code",
      "execution_count": 41,
      "id": "64fb674a",
      "metadata": {
        "id": "64fb674a"
      },
      "outputs": [],
      "source": [
        "import pandas as pd\n",
        "df = pd.DataFrame(metas)"
      ]
    },
    {
      "cell_type": "code",
      "execution_count": 42,
      "id": "c9f9add4",
      "metadata": {
        "id": "c9f9add4"
      },
      "outputs": [],
      "source": [
        "df = df.transpose()"
      ]
    },
    {
      "cell_type": "code",
      "execution_count": 43,
      "id": "2d4f9b3f",
      "metadata": {
        "id": "2d4f9b3f"
      },
      "outputs": [],
      "source": [
        "df= df.reset_index()"
      ]
    },
    {
      "cell_type": "code",
      "source": [
        "df.head()"
      ],
      "metadata": {
        "colab": {
          "base_uri": "https://localhost:8080/",
          "height": 595
        },
        "id": "CBIXfAZTh2qN",
        "outputId": "82c52419-7204-4b85-9354-89edb8258a74"
      },
      "id": "CBIXfAZTh2qN",
      "execution_count": 44,
      "outputs": [
        {
          "output_type": "execute_result",
          "data": {
            "text/plain": [
              "             index                         Virus name             Type  \\\n",
              "0  EPI_ISL_7447690  hCoV-19/USA/CA-CDC-FG-181575/2021  betacoronavirus   \n",
              "1  EPI_ISL_7447691  hCoV-19/USA/CA-CDC-FG-181559/2021  betacoronavirus   \n",
              "2  EPI_ISL_7447693  hCoV-19/USA/CA-CDC-FG-181510/2021  betacoronavirus   \n",
              "3  EPI_ISL_4941720  hCoV-19/England/ALDP-1FEF30C/2021  betacoronavirus   \n",
              "4  EPI_ISL_4941721  hCoV-19/England/MILK-1FFD6F3/2021  betacoronavirus   \n",
              "\n",
              "      Accession ID Collection date                           Location  \\\n",
              "0  EPI_ISL_7447690      2021-11-28   North America / USA / California   \n",
              "1  EPI_ISL_7447691      2021-11-28   North America / USA / California   \n",
              "2  EPI_ISL_7447693      2021-11-28   North America / USA / California   \n",
              "3  EPI_ISL_4941720      2021-09-29  Europe / United Kingdom / England   \n",
              "4  EPI_ISL_4941721      2021-09-30  Europe / United Kingdom / England   \n",
              "\n",
              "  Additional location information Sequence length   Host Patient age  ...  \\\n",
              "0                                           29845  Human          43  ...   \n",
              "1                                           29812  Human          56  ...   \n",
              "2                                           29800  Human          61  ...   \n",
              "3                                           29769  Human     unknown  ...   \n",
              "4                                           29769  Human     unknown  ...   \n",
              "\n",
              "  Pangolin version                                            Variant  \\\n",
              "0       2022-02-28  VOC Delta GK (B.1.617.2+AY.*) first detected i...   \n",
              "1       2022-02-28  VOC Delta GK (B.1.617.2+AY.*) first detected i...   \n",
              "2       2022-02-28  VOC Delta GK (B.1.617.2+AY.*) first detected i...   \n",
              "3       2022-02-28  VOC Delta GK (B.1.617.2+AY.*) first detected i...   \n",
              "4       2022-02-28  VOC Delta GK (B.1.617.2+AY.*) first detected i...   \n",
              "\n",
              "                                    AA Substitutions Submission date  \\\n",
              "0  (N_G215C,N_D63G,N_R203M,NSP12_G671S,Spike_G142...      2021-12-09   \n",
              "1  (N_G215C,N_D63G,N_A208S,N_R203M,NSP12_G671S,NS...      2021-12-09   \n",
              "2  (N_G215C,N_D63G,N_R203M,NSP12_G671S,Spike_G142...      2021-12-09   \n",
              "3  (NSP16_A116V,N_G215C,NSP3_A1711V,Spike_T95I,N_...      2021-10-07   \n",
              "4  (N_G215C,N_D63G,N_R203M,NSP12_P21S,NSP12_G671S...      2021-10-07   \n",
              "\n",
              "  Is reference? Is complete? Is high coverage? Is low coverage?  \\\n",
              "0                       True              True                    \n",
              "1                       True              True                    \n",
              "2                       True              True                    \n",
              "3                       True              True                    \n",
              "4                       True              True                    \n",
              "\n",
              "           N-Content      GC-Content  \n",
              "0  0.000100519349975   0.37943167348  \n",
              "1  0.000100630618543  0.379583347311  \n",
              "2   0.00369164681008  0.379492707246  \n",
              "3                     0.379522321878  \n",
              "4    0.0069537758667  0.379689455702  \n",
              "\n",
              "[5 rows x 23 columns]"
            ],
            "text/html": [
              "\n",
              "  <div id=\"df-3a33b2c3-bc7f-4219-86bf-7b685fe15ef2\">\n",
              "    <div class=\"colab-df-container\">\n",
              "      <div>\n",
              "<style scoped>\n",
              "    .dataframe tbody tr th:only-of-type {\n",
              "        vertical-align: middle;\n",
              "    }\n",
              "\n",
              "    .dataframe tbody tr th {\n",
              "        vertical-align: top;\n",
              "    }\n",
              "\n",
              "    .dataframe thead th {\n",
              "        text-align: right;\n",
              "    }\n",
              "</style>\n",
              "<table border=\"1\" class=\"dataframe\">\n",
              "  <thead>\n",
              "    <tr style=\"text-align: right;\">\n",
              "      <th></th>\n",
              "      <th>index</th>\n",
              "      <th>Virus name</th>\n",
              "      <th>Type</th>\n",
              "      <th>Accession ID</th>\n",
              "      <th>Collection date</th>\n",
              "      <th>Location</th>\n",
              "      <th>Additional location information</th>\n",
              "      <th>Sequence length</th>\n",
              "      <th>Host</th>\n",
              "      <th>Patient age</th>\n",
              "      <th>...</th>\n",
              "      <th>Pangolin version</th>\n",
              "      <th>Variant</th>\n",
              "      <th>AA Substitutions</th>\n",
              "      <th>Submission date</th>\n",
              "      <th>Is reference?</th>\n",
              "      <th>Is complete?</th>\n",
              "      <th>Is high coverage?</th>\n",
              "      <th>Is low coverage?</th>\n",
              "      <th>N-Content</th>\n",
              "      <th>GC-Content</th>\n",
              "    </tr>\n",
              "  </thead>\n",
              "  <tbody>\n",
              "    <tr>\n",
              "      <th>0</th>\n",
              "      <td>EPI_ISL_7447690</td>\n",
              "      <td>hCoV-19/USA/CA-CDC-FG-181575/2021</td>\n",
              "      <td>betacoronavirus</td>\n",
              "      <td>EPI_ISL_7447690</td>\n",
              "      <td>2021-11-28</td>\n",
              "      <td>North America / USA / California</td>\n",
              "      <td></td>\n",
              "      <td>29845</td>\n",
              "      <td>Human</td>\n",
              "      <td>43</td>\n",
              "      <td>...</td>\n",
              "      <td>2022-02-28</td>\n",
              "      <td>VOC Delta GK (B.1.617.2+AY.*) first detected i...</td>\n",
              "      <td>(N_G215C,N_D63G,N_R203M,NSP12_G671S,Spike_G142...</td>\n",
              "      <td>2021-12-09</td>\n",
              "      <td></td>\n",
              "      <td>True</td>\n",
              "      <td>True</td>\n",
              "      <td></td>\n",
              "      <td>0.000100519349975</td>\n",
              "      <td>0.37943167348</td>\n",
              "    </tr>\n",
              "    <tr>\n",
              "      <th>1</th>\n",
              "      <td>EPI_ISL_7447691</td>\n",
              "      <td>hCoV-19/USA/CA-CDC-FG-181559/2021</td>\n",
              "      <td>betacoronavirus</td>\n",
              "      <td>EPI_ISL_7447691</td>\n",
              "      <td>2021-11-28</td>\n",
              "      <td>North America / USA / California</td>\n",
              "      <td></td>\n",
              "      <td>29812</td>\n",
              "      <td>Human</td>\n",
              "      <td>56</td>\n",
              "      <td>...</td>\n",
              "      <td>2022-02-28</td>\n",
              "      <td>VOC Delta GK (B.1.617.2+AY.*) first detected i...</td>\n",
              "      <td>(N_G215C,N_D63G,N_A208S,N_R203M,NSP12_G671S,NS...</td>\n",
              "      <td>2021-12-09</td>\n",
              "      <td></td>\n",
              "      <td>True</td>\n",
              "      <td>True</td>\n",
              "      <td></td>\n",
              "      <td>0.000100630618543</td>\n",
              "      <td>0.379583347311</td>\n",
              "    </tr>\n",
              "    <tr>\n",
              "      <th>2</th>\n",
              "      <td>EPI_ISL_7447693</td>\n",
              "      <td>hCoV-19/USA/CA-CDC-FG-181510/2021</td>\n",
              "      <td>betacoronavirus</td>\n",
              "      <td>EPI_ISL_7447693</td>\n",
              "      <td>2021-11-28</td>\n",
              "      <td>North America / USA / California</td>\n",
              "      <td></td>\n",
              "      <td>29800</td>\n",
              "      <td>Human</td>\n",
              "      <td>61</td>\n",
              "      <td>...</td>\n",
              "      <td>2022-02-28</td>\n",
              "      <td>VOC Delta GK (B.1.617.2+AY.*) first detected i...</td>\n",
              "      <td>(N_G215C,N_D63G,N_R203M,NSP12_G671S,Spike_G142...</td>\n",
              "      <td>2021-12-09</td>\n",
              "      <td></td>\n",
              "      <td>True</td>\n",
              "      <td>True</td>\n",
              "      <td></td>\n",
              "      <td>0.00369164681008</td>\n",
              "      <td>0.379492707246</td>\n",
              "    </tr>\n",
              "    <tr>\n",
              "      <th>3</th>\n",
              "      <td>EPI_ISL_4941720</td>\n",
              "      <td>hCoV-19/England/ALDP-1FEF30C/2021</td>\n",
              "      <td>betacoronavirus</td>\n",
              "      <td>EPI_ISL_4941720</td>\n",
              "      <td>2021-09-29</td>\n",
              "      <td>Europe / United Kingdom / England</td>\n",
              "      <td></td>\n",
              "      <td>29769</td>\n",
              "      <td>Human</td>\n",
              "      <td>unknown</td>\n",
              "      <td>...</td>\n",
              "      <td>2022-02-28</td>\n",
              "      <td>VOC Delta GK (B.1.617.2+AY.*) first detected i...</td>\n",
              "      <td>(NSP16_A116V,N_G215C,NSP3_A1711V,Spike_T95I,N_...</td>\n",
              "      <td>2021-10-07</td>\n",
              "      <td></td>\n",
              "      <td>True</td>\n",
              "      <td>True</td>\n",
              "      <td></td>\n",
              "      <td></td>\n",
              "      <td>0.379522321878</td>\n",
              "    </tr>\n",
              "    <tr>\n",
              "      <th>4</th>\n",
              "      <td>EPI_ISL_4941721</td>\n",
              "      <td>hCoV-19/England/MILK-1FFD6F3/2021</td>\n",
              "      <td>betacoronavirus</td>\n",
              "      <td>EPI_ISL_4941721</td>\n",
              "      <td>2021-09-30</td>\n",
              "      <td>Europe / United Kingdom / England</td>\n",
              "      <td></td>\n",
              "      <td>29769</td>\n",
              "      <td>Human</td>\n",
              "      <td>unknown</td>\n",
              "      <td>...</td>\n",
              "      <td>2022-02-28</td>\n",
              "      <td>VOC Delta GK (B.1.617.2+AY.*) first detected i...</td>\n",
              "      <td>(N_G215C,N_D63G,N_R203M,NSP12_P21S,NSP12_G671S...</td>\n",
              "      <td>2021-10-07</td>\n",
              "      <td></td>\n",
              "      <td>True</td>\n",
              "      <td>True</td>\n",
              "      <td></td>\n",
              "      <td>0.0069537758667</td>\n",
              "      <td>0.379689455702</td>\n",
              "    </tr>\n",
              "  </tbody>\n",
              "</table>\n",
              "<p>5 rows × 23 columns</p>\n",
              "</div>\n",
              "      <button class=\"colab-df-convert\" onclick=\"convertToInteractive('df-3a33b2c3-bc7f-4219-86bf-7b685fe15ef2')\"\n",
              "              title=\"Convert this dataframe to an interactive table.\"\n",
              "              style=\"display:none;\">\n",
              "        \n",
              "  <svg xmlns=\"http://www.w3.org/2000/svg\" height=\"24px\"viewBox=\"0 0 24 24\"\n",
              "       width=\"24px\">\n",
              "    <path d=\"M0 0h24v24H0V0z\" fill=\"none\"/>\n",
              "    <path d=\"M18.56 5.44l.94 2.06.94-2.06 2.06-.94-2.06-.94-.94-2.06-.94 2.06-2.06.94zm-11 1L8.5 8.5l.94-2.06 2.06-.94-2.06-.94L8.5 2.5l-.94 2.06-2.06.94zm10 10l.94 2.06.94-2.06 2.06-.94-2.06-.94-.94-2.06-.94 2.06-2.06.94z\"/><path d=\"M17.41 7.96l-1.37-1.37c-.4-.4-.92-.59-1.43-.59-.52 0-1.04.2-1.43.59L10.3 9.45l-7.72 7.72c-.78.78-.78 2.05 0 2.83L4 21.41c.39.39.9.59 1.41.59.51 0 1.02-.2 1.41-.59l7.78-7.78 2.81-2.81c.8-.78.8-2.07 0-2.86zM5.41 20L4 18.59l7.72-7.72 1.47 1.35L5.41 20z\"/>\n",
              "  </svg>\n",
              "      </button>\n",
              "      \n",
              "  <style>\n",
              "    .colab-df-container {\n",
              "      display:flex;\n",
              "      flex-wrap:wrap;\n",
              "      gap: 12px;\n",
              "    }\n",
              "\n",
              "    .colab-df-convert {\n",
              "      background-color: #E8F0FE;\n",
              "      border: none;\n",
              "      border-radius: 50%;\n",
              "      cursor: pointer;\n",
              "      display: none;\n",
              "      fill: #1967D2;\n",
              "      height: 32px;\n",
              "      padding: 0 0 0 0;\n",
              "      width: 32px;\n",
              "    }\n",
              "\n",
              "    .colab-df-convert:hover {\n",
              "      background-color: #E2EBFA;\n",
              "      box-shadow: 0px 1px 2px rgba(60, 64, 67, 0.3), 0px 1px 3px 1px rgba(60, 64, 67, 0.15);\n",
              "      fill: #174EA6;\n",
              "    }\n",
              "\n",
              "    [theme=dark] .colab-df-convert {\n",
              "      background-color: #3B4455;\n",
              "      fill: #D2E3FC;\n",
              "    }\n",
              "\n",
              "    [theme=dark] .colab-df-convert:hover {\n",
              "      background-color: #434B5C;\n",
              "      box-shadow: 0px 1px 3px 1px rgba(0, 0, 0, 0.15);\n",
              "      filter: drop-shadow(0px 1px 2px rgba(0, 0, 0, 0.3));\n",
              "      fill: #FFFFFF;\n",
              "    }\n",
              "  </style>\n",
              "\n",
              "      <script>\n",
              "        const buttonEl =\n",
              "          document.querySelector('#df-3a33b2c3-bc7f-4219-86bf-7b685fe15ef2 button.colab-df-convert');\n",
              "        buttonEl.style.display =\n",
              "          google.colab.kernel.accessAllowed ? 'block' : 'none';\n",
              "\n",
              "        async function convertToInteractive(key) {\n",
              "          const element = document.querySelector('#df-3a33b2c3-bc7f-4219-86bf-7b685fe15ef2');\n",
              "          const dataTable =\n",
              "            await google.colab.kernel.invokeFunction('convertToInteractive',\n",
              "                                                     [key], {});\n",
              "          if (!dataTable) return;\n",
              "\n",
              "          const docLinkHtml = 'Like what you see? Visit the ' +\n",
              "            '<a target=\"_blank\" href=https://colab.research.google.com/notebooks/data_table.ipynb>data table notebook</a>'\n",
              "            + ' to learn more about interactive tables.';\n",
              "          element.innerHTML = '';\n",
              "          dataTable['output_type'] = 'display_data';\n",
              "          await google.colab.output.renderOutput(dataTable, element);\n",
              "          const docLink = document.createElement('div');\n",
              "          docLink.innerHTML = docLinkHtml;\n",
              "          element.appendChild(docLink);\n",
              "        }\n",
              "      </script>\n",
              "    </div>\n",
              "  </div>\n",
              "  "
            ]
          },
          "metadata": {},
          "execution_count": 44
        }
      ]
    },
    {
      "cell_type": "code",
      "execution_count": 45,
      "id": "a3aad35a",
      "metadata": {
        "colab": {
          "base_uri": "https://localhost:8080/"
        },
        "id": "a3aad35a",
        "outputId": "cf386777-5dd6-4353-bd0b-0b8df57ebb8b"
      },
      "outputs": [
        {
          "output_type": "execute_result",
          "data": {
            "text/plain": [
              "Index(['index', 'Virus name', 'Type', 'Accession ID', 'Collection date',\n",
              "       'Location', 'Additional location information', 'Sequence length',\n",
              "       'Host', 'Patient age', 'Gender', 'Clade', 'Pango lineage',\n",
              "       'Pangolin version', 'Variant', 'AA Substitutions', 'Submission date',\n",
              "       'Is reference?', 'Is complete?', 'Is high coverage?',\n",
              "       'Is low coverage?', 'N-Content', 'GC-Content'],\n",
              "      dtype='object')"
            ]
          },
          "metadata": {},
          "execution_count": 45
        }
      ],
      "source": [
        "df.columns"
      ]
    },
    {
      "cell_type": "code",
      "execution_count": 46,
      "id": "9a6a7945",
      "metadata": {
        "colab": {
          "base_uri": "https://localhost:8080/"
        },
        "id": "9a6a7945",
        "outputId": "1f6b5e5c-b71f-4e0e-dd47-e7d816e30d66"
      },
      "outputs": [
        {
          "output_type": "execute_result",
          "data": {
            "text/plain": [
              "AY.103       1838\n",
              "AY.44        1573\n",
              "AY.43        1391\n",
              "AY.4         1192\n",
              "AY.122        844\n",
              "             ... \n",
              "B.1.243.2       1\n",
              "AY.38           1\n",
              "AY.40           1\n",
              "AY.103.1        1\n",
              "B.1.177.5       1\n",
              "Name: Pango lineage, Length: 361, dtype: int64"
            ]
          },
          "metadata": {},
          "execution_count": 46
        }
      ],
      "source": [
        "df['Pango lineage'].value_counts()"
      ]
    },
    {
      "cell_type": "code",
      "execution_count": 47,
      "id": "97d03aa1",
      "metadata": {
        "colab": {
          "base_uri": "https://localhost:8080/"
        },
        "id": "97d03aa1",
        "outputId": "17757f38-c2b3-4d55-8052-2fc56111d56d"
      },
      "outputs": [
        {
          "output_type": "execute_result",
          "data": {
            "text/plain": [
              "GK     14915\n",
              "GH      2237\n",
              "G       1191\n",
              "GR       844\n",
              "GRA      571\n",
              "GV       100\n",
              "O         90\n",
              "GRY       47\n",
              "S          5\n",
              "Name: Clade, dtype: int64"
            ]
          },
          "metadata": {},
          "execution_count": 47
        }
      ],
      "source": [
        "df['Clade'].value_counts()"
      ]
    },
    {
      "cell_type": "code",
      "source": [
        "df['Variant'].value_counts()"
      ],
      "metadata": {
        "colab": {
          "base_uri": "https://localhost:8080/"
        },
        "id": "QuM37lJmk8ZD",
        "outputId": "8ab4f8f8-0351-44a9-a5b5-ace793274a4a"
      },
      "id": "QuM37lJmk8ZD",
      "execution_count": 48,
      "outputs": [
        {
          "output_type": "execute_result",
          "data": {
            "text/plain": [
              "VOC Delta GK (B.1.617.2+AY.*) first detected in India                                 15497\n",
              "                                                                                       2993\n",
              "VOC Omicron GRA (B.1.1.529+BA.*) first detected in Botswana/Hong Kong/South Africa      561\n",
              "VOC Alpha GRY (B.1.1.7+Q.*) first detected in the UK                                    424\n",
              "VOI Epsilon GH/452R.V1 (B.1.429+B.1.427) first detected in USA/California               160\n",
              "VOI Iota GH/253G.V1 (B.1.526) first detected in USA/New York                            154\n",
              "VOI Mu GH (B.1.621+B.1.621.1) first detected in Colombia                                118\n",
              "VOC Gamma GR/501Y.V3 (P.1+P.1.*) first detected in Brazil/Japan                          24\n",
              "VOI Eta G/484K.V3 (B.1.525) first detected in UK/Nigeria                                 24\n",
              "VOC Beta GH/501Y.V2 (B.1.351+B.1.351.2+B.1.351.3) first detected in South Africa         21\n",
              "VOI Zeta GR/484K.V2 (P.2) first detected in Brazil                                       14\n",
              "VOI Lambda GR/452Q.V1 (C.37+C.37.1) first detected in Peru                                4\n",
              "VOI Kappa G/452R.V3 (B.1.617.1) first detected in India                                   3\n",
              "VUM GH/490R (B.1.640+B.1.640.*) first detected in Congo/France                            2\n",
              "VOI Theta GR/1092K.V1 (P.3) first detected in the Philippines                             1\n",
              "Name: Variant, dtype: int64"
            ]
          },
          "metadata": {},
          "execution_count": 48
        }
      ]
    },
    {
      "cell_type": "markdown",
      "source": [
        ""
      ],
      "metadata": {
        "id": "oT0ZKu5hlCxe"
      },
      "id": "oT0ZKu5hlCxe"
    },
    {
      "cell_type": "markdown",
      "source": [
        ""
      ],
      "metadata": {
        "id": "llcAssR8lCtn"
      },
      "id": "llcAssR8lCtn"
    },
    {
      "cell_type": "code",
      "execution_count": 49,
      "id": "1b75a70e",
      "metadata": {
        "colab": {
          "base_uri": "https://localhost:8080/"
        },
        "id": "1b75a70e",
        "outputId": "1a680f83-1315-4f99-f711-ae2f7ef96334"
      },
      "outputs": [
        {
          "output_type": "execute_result",
          "data": {
            "text/plain": [
              "North America / USA / California                                 1316\n",
              "North America / USA / Massachusetts                              1276\n",
              "Europe / France / Provence-Alpes-Cote d'Azur / Marseille         1215\n",
              "Europe / France / Provence-Alpes-Cote-d’Azur / Marseille          871\n",
              "Europe / United Kingdom / England                                 783\n",
              "                                                                 ... \n",
              "Europe / Czech Republic / Ustecky Region / Blsany                   1\n",
              "Europe / Czech Republic / Zlin Region / Vizovice                    1\n",
              "Europe / Czech Republic / Zlin Region / Biskupice u Luhacovic       1\n",
              "Europe / Czech Republic / Zlin Region / Napajedla                   1\n",
              "Europe / Norway / Agder                                             1\n",
              "Name: Location, Length: 523, dtype: int64"
            ]
          },
          "metadata": {},
          "execution_count": 49
        }
      ],
      "source": [
        "df['Location'].value_counts()"
      ]
    },
    {
      "cell_type": "code",
      "execution_count": 50,
      "id": "244fe0a9",
      "metadata": {
        "id": "244fe0a9"
      },
      "outputs": [],
      "source": [
        "df['Submission date']=pd.to_datetime(df['Submission date'])"
      ]
    },
    {
      "cell_type": "code",
      "execution_count": 51,
      "id": "4313abcc",
      "metadata": {
        "colab": {
          "base_uri": "https://localhost:8080/"
        },
        "id": "4313abcc",
        "outputId": "f1182791-dcf6-43a4-e9be-0e0b60e2f0e9"
      },
      "outputs": [
        {
          "output_type": "execute_result",
          "data": {
            "text/plain": [
              "Submission date\n",
              "2020-08-25        1\n",
              "2020-10-27        1\n",
              "2021-01-15        4\n",
              "2021-02-26       11\n",
              "2021-02-27       22\n",
              "2021-03-01        9\n",
              "2021-03-18       44\n",
              "2021-04-22        1\n",
              "2021-05-04        2\n",
              "2021-06-08        2\n",
              "2021-06-27        1\n",
              "2021-07-19        1\n",
              "2021-08-30        1\n",
              "2021-09-08        6\n",
              "2021-09-11        1\n",
              "2021-10-06        1\n",
              "2021-10-07    11171\n",
              "2021-10-08     2163\n",
              "2021-10-28       46\n",
              "2021-11-20        6\n",
              "2021-11-21       15\n",
              "2021-11-23       61\n",
              "2021-12-09     3679\n",
              "2021-12-10     2163\n",
              "2021-12-14        1\n",
              "2021-12-22        5\n",
              "2022-01-10        5\n",
              "2022-01-12        1\n",
              "2022-01-16        4\n",
              "2022-01-18        1\n",
              "2022-01-19        1\n",
              "2022-01-25       79\n",
              "2022-01-26       10\n",
              "2022-01-27        3\n",
              "2022-01-31        2\n",
              "2022-02-01      167\n",
              "2022-02-02       74\n",
              "2022-02-03        2\n",
              "2022-02-08        3\n",
              "2022-02-16      135\n",
              "2022-02-20       51\n",
              "2022-02-24        9\n",
              "2022-02-25       10\n",
              "2022-03-03        3\n",
              "2022-03-11        9\n",
              "2022-03-17        1\n",
              "2022-03-18        3\n",
              "2022-03-22        9\n",
              "Name: index, dtype: int64"
            ]
          },
          "metadata": {},
          "execution_count": 51
        }
      ],
      "source": [
        "df.groupby('Submission date')['index'].count()"
      ]
    },
    {
      "cell_type": "code",
      "execution_count": 52,
      "id": "84c69a7a",
      "metadata": {
        "colab": {
          "base_uri": "https://localhost:8080/",
          "height": 294
        },
        "id": "84c69a7a",
        "outputId": "1e349d12-8087-4e53-88b7-681059186b01"
      },
      "outputs": [
        {
          "output_type": "execute_result",
          "data": {
            "text/plain": [
              "<matplotlib.axes._subplots.AxesSubplot at 0x7fe6fb178f10>"
            ]
          },
          "metadata": {},
          "execution_count": 52
        },
        {
          "output_type": "display_data",
          "data": {
            "text/plain": [
              "<Figure size 432x288 with 1 Axes>"
            ],
            "image/png": "[encoded data removed]"
          },
          "metadata": {
            "needs_background": "light"
          }
        }
      ],
      "source": [
        "df.groupby('Submission date')['index'].count().plot()"
      ]
    },
    {
      "cell_type": "code",
      "source": [
        "len(df)\n"
      ],
      "metadata": {
        "colab": {
          "base_uri": "https://localhost:8080/"
        },
        "id": "UoRPh_u0h_nt",
        "outputId": "0fc6c95b-ab35-46cd-d7b6-44d689998005"
      },
      "id": "UoRPh_u0h_nt",
      "execution_count": 53,
      "outputs": [
        {
          "output_type": "execute_result",
          "data": {
            "text/plain": [
              "20000"
            ]
          },
          "metadata": {},
          "execution_count": 53
        }
      ]
    },
    {
      "cell_type": "code",
      "source": [
        ""
      ],
      "metadata": {
        "id": "rJpK5_3XlMuR"
      },
      "id": "rJpK5_3XlMuR",
      "execution_count": null,
      "outputs": []
    }
  ],
  "metadata": {
    "kernelspec": {
      "display_name": "Python 3 (ipykernel)",
      "language": "python",
      "name": "python3"
    },
    "language_info": {
      "codemirror_mode": {
        "name": "ipython",
        "version": 3
      },
      "file_extension": ".py",
      "mimetype": "text/x-python",
      "name": "python",
      "nbconvert_exporter": "python",
      "pygments_lexer": "ipython3",
      "version": "3.9.11"
    },
    "colab": {
      "name": "gisaid.ipynb",
      "provenance": [],
      "collapsed_sections": [],
      "machine_shape": "hm",
      "include_colab_link": true
    }
  },
  "nbformat": 4,
  "nbformat_minor": 5
}